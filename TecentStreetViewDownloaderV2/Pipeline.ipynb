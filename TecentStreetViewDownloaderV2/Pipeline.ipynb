{
 "cells": [
  {
   "cell_type": "markdown",
   "metadata": {},
   "source": [
    "### GetTecentStreetViewMetadata"
   ]
  },
  {
   "cell_type": "code",
   "execution_count": 1,
   "metadata": {
    "ExecuteTime": {
     "end_time": "2021-04-05T08:45:32.232246Z",
     "start_time": "2021-04-05T08:45:31.780222Z"
    }
   },
   "outputs": [],
   "source": [
    "from pathlib import Path\n",
    "import os\n",
    "from joblib import Parallel, delayed, parallel_backend\n",
    "import pandas as pd\n",
    "from tqdm.notebook import tqdm\n",
    "from CoordinateTransctionTools import wgs2gcj\n",
    "import requests as req\n",
    "import urllib.parse\n",
    "import PIL.Image as Image\n",
    "import multiprocessing\n",
    "\n",
    "\n",
    "\n",
    "\n",
    "Root_DIR = Path('./Kowloon/')\n",
    "Metrics_DIR = Path(Root_DIR, 'Metrics')\n",
    "OUTPUT_DIR = Path(Root_DIR, 'Output', )\n",
    "Tile_DIR = Path(OUTPUT_DIR, \"Tiles\")\n",
    "Image_DIR = Path(OUTPUT_DIR, \"Images\")\n",
    "\n",
    "\n",
    "key = 'K76BZ-W3O2Q-RFL5S-GXOPR-3ARIT-6KFE5'\n",
    "output_format = 'json'\n",
    "query_base_url = 'https://sv.map.qq.com/xf?lat={lat}&lng={lng}&r=200&key={key}&output={output_format}&pf=jsapi&ref=jsapi&cb=qq.maps._svcb2.cbjxjooc8y5'\n",
    "level = 0\n",
    "tile_base_url = 'https://sv0.map.qq.com/tile?svid={svid}&x={tile_x}&y={tile_y}&from=web&level={level}&v=2'"
   ]
  },
  {
   "cell_type": "code",
   "execution_count": 3,
   "metadata": {
    "ExecuteTime": {
     "end_time": "2021-04-05T08:46:13.978069Z",
     "start_time": "2021-04-05T08:46:13.641125Z"
    }
   },
   "outputs": [],
   "source": [
    "# 坐标集合\n",
    "points_path = Path(Metrics_DIR, 'KowloonSamplingPoints.csv')\n",
    "points_df = pd.read_csv(points_path, header=0)\n",
    "\n",
    "# points_df['uuid'] = points_df['id'].apply(int)\n",
    "\n",
    "# 坐标转换\n",
    "func = lambda row: wgs2gcj(row['wgs_lat'], row['wgs_lon'])\n",
    "points_df['gcj_lat'], points_df['gcj_lon'] = zip(*points_df.apply(func, axis=1))"
   ]
  },
  {
   "cell_type": "code",
   "execution_count": 11,
   "metadata": {
    "ExecuteTime": {
     "end_time": "2021-04-05T09:05:52.934141Z",
     "start_time": "2021-04-05T09:04:08.151509Z"
    }
   },
   "outputs": [
    {
     "name": "stderr",
     "output_type": "stream",
     "text": [
      "[Parallel(n_jobs=20)]: Using backend ThreadingBackend with 20 concurrent workers.\n",
      "[Parallel(n_jobs=20)]: Done  10 tasks      | elapsed:    0.2s\n",
      "[Parallel(n_jobs=20)]: Done 160 tasks      | elapsed:    1.5s\n",
      "[Parallel(n_jobs=20)]: Done 410 tasks      | elapsed:    3.6s\n",
      "[Parallel(n_jobs=20)]: Done 760 tasks      | elapsed:    6.7s\n",
      "[Parallel(n_jobs=20)]: Done 1210 tasks      | elapsed:   10.5s\n",
      "[Parallel(n_jobs=20)]: Done 1760 tasks      | elapsed:   15.6s\n",
      "[Parallel(n_jobs=20)]: Done 2410 tasks      | elapsed:   21.7s\n",
      "[Parallel(n_jobs=20)]: Done 3160 tasks      | elapsed:   28.9s\n",
      "[Parallel(n_jobs=20)]: Done 4010 tasks      | elapsed:   36.9s\n",
      "[Parallel(n_jobs=20)]: Done 4960 tasks      | elapsed:   46.2s\n",
      "[Parallel(n_jobs=20)]: Done 6010 tasks      | elapsed:   55.9s\n",
      "[Parallel(n_jobs=20)]: Done 7160 tasks      | elapsed:  1.1min\n",
      "[Parallel(n_jobs=20)]: Done 8410 tasks      | elapsed:  1.3min\n",
      "[Parallel(n_jobs=20)]: Done 8799 out of 8799 | elapsed:  1.7min finished\n"
     ]
    }
   ],
   "source": [
    "'''\n",
    "来源于-街景拾取器\n",
    "通过坐标查询svid等相关信息\n",
    "注： 此处坐标为：腾讯地图坐标系？\n",
    "    key值姑且不变\n",
    "    output可选项json\n",
    "\n",
    "demo_url = https://sv.map.qq.com/xf?lat=30.611174806403625&lng=114.42840103787603&r=200&key=K76BZ-W3O2Q-RFL5S-GXOPR-3ARIT-6KFE5&output=jsonp&pf=jsapi&ref=jsapi&cb=qq.maps._svcb2.cbjxjooc8y5\n",
    "\n",
    "'''\n",
    "\n",
    "\n",
    "def iter_func(row):\n",
    "    metadata_url = query_base_url.format(\n",
    "        lat=str(row['gcj_lat']),\n",
    "        lng=str(row['gcj_lon']),\n",
    "        key=key,\n",
    "        output_format=output_format)\n",
    "    try:\n",
    "        response = req.get(url=metadata_url)\n",
    "\n",
    "        response_json = None\n",
    "        response_json = response.json()\n",
    "    except:\n",
    "        with open(Path(Metrics_DIR, 'meta_request_error.txt'), 'a') as fp:\n",
    "            std_str = '-'.join([str(row['Id']), str(row['gcj_lat']), str(row['gcj_lon'])])\n",
    "            fp.write(std_str)\n",
    "            fp.write('\\n')\n",
    "        return\n",
    "\n",
    "    '''\n",
    "    response_json sample:\n",
    "    {'detail': {'get_way': 1, 'heading': 85, 'pitch': 0, 'road_name': 'NA', 'src': '1', 'svid': '10141019121231110908700', \n",
    "    'x': 12735087.78, 'y': 3570390.62, 'zoom': 1}, 'info': {'errno': 0, 'type': 1}}\n",
    "    '''\n",
    "    detail = response_json.get('detail')\n",
    "    svid = detail.get('svid')\n",
    "    road_name = detail.get('road_name', '')\n",
    "    if svid == None:\n",
    "        return \n",
    "    else:\n",
    "        # 构建图片下载url\n",
    "        tile_list = [(x, y) for y in range(1, 3) for x in range(0, 8)]\n",
    "        # tile url sample: https://sv5.map.qq.com/tile?svid=10141019130228120933700&x=5&y=2&from=web&level=0&v=2\n",
    "        image_dict_list = []\n",
    "        for (tile_x, tile_y) in tile_list:\n",
    "            image_dict = {}\n",
    "            tile_url = tile_base_url.format(\n",
    "                svid=str(svid),\n",
    "                tile_x=str(tile_x),\n",
    "                tile_y=str(tile_y),\n",
    "                level=str(level))\n",
    "            image_dict['tile_x'] = tile_x\n",
    "            image_dict['tile_y'] = tile_y\n",
    "            image_dict['tile_url'] = tile_url\n",
    "            image_dict['svid'] = svid\n",
    "            image_dict['road_name'] = road_name\n",
    "            image_dict['wgs_lat'] = row['wgs_lat']\n",
    "            image_dict['wgs_lon'] = row['wgs_lon']\n",
    "            image_dict_list.append(image_dict)\n",
    "        return image_dict_list\n",
    "\n",
    "\n",
    "\n",
    "# tile_url_list = []\n",
    "\n",
    "# ptqdm = tqdm(total=points_df.shape[0])\n",
    "# for _, row in points_df.iterrows():\n",
    "#     image_dict_list = iter_func(row)\n",
    "#     if image_dict_list != None:\n",
    "#         tile_url_list.extend(image_dict_list)\n",
    "#     ptqdm.update(1)\n",
    "# ptqdm.close()\n",
    "\n",
    "# rows = [row for _, row in points_df.iterrows()]\n",
    "\n",
    "\n",
    "res = []\n",
    "with parallel_backend('threading', n_jobs=20):\n",
    "    res = Parallel(verbose=1)(delayed(iter_func)(row) for _, row in points_df.iterrows())\n",
    "\n",
    "tile_url_list = []\n",
    "for _ in res:\n",
    "    if _ != None:\n",
    "        tile_url_list.extend(_)\n",
    "\n",
    "tile_url_df = pd.DataFrame(tile_url_list)\n",
    "tile_url_df.to_csv(Path(Metrics_DIR, \"tile_url.csv\"), header=True, index=False)"
   ]
  },
  {
   "cell_type": "code",
   "execution_count": 12,
   "metadata": {
    "ExecuteTime": {
     "end_time": "2021-04-05T09:06:06.913217Z",
     "start_time": "2021-04-05T09:06:06.578000Z"
    }
   },
   "outputs": [
    {
     "data": {
      "text/plain": [
       "(140640, 7)"
      ]
     },
     "execution_count": 12,
     "metadata": {},
     "output_type": "execute_result"
    }
   ],
   "source": [
    "tile_url_df = pd.read_csv(Path(Metrics_DIR, \"tile_url.csv\"), header=0)\n",
    "tile_url_df.shape"
   ]
  },
  {
   "cell_type": "markdown",
   "metadata": {},
   "source": [
    "### GetTileFromMeta "
   ]
  },
  {
   "cell_type": "code",
   "execution_count": 13,
   "metadata": {
    "ExecuteTime": {
     "end_time": "2021-04-05T09:53:58.053661Z",
     "start_time": "2021-04-05T09:07:42.188546Z"
    }
   },
   "outputs": [
    {
     "name": "stderr",
     "output_type": "stream",
     "text": [
      "[Parallel(n_jobs=20)]: Using backend ThreadingBackend with 20 concurrent workers.\n",
      "[Parallel(n_jobs=20)]: Done  10 tasks      | elapsed:    0.3s\n",
      "[Parallel(n_jobs=20)]: Done 160 tasks      | elapsed:    2.7s\n",
      "[Parallel(n_jobs=20)]: Done 410 tasks      | elapsed:    7.3s\n",
      "[Parallel(n_jobs=20)]: Done 760 tasks      | elapsed:   13.7s\n",
      "[Parallel(n_jobs=20)]: Done 1210 tasks      | elapsed:   22.4s\n",
      "[Parallel(n_jobs=20)]: Done 1760 tasks      | elapsed:   33.1s\n",
      "[Parallel(n_jobs=20)]: Done 2410 tasks      | elapsed:   45.8s\n",
      "[Parallel(n_jobs=20)]: Done 3160 tasks      | elapsed:  1.0min\n",
      "[Parallel(n_jobs=20)]: Done 4010 tasks      | elapsed:  1.3min\n",
      "[Parallel(n_jobs=20)]: Done 4960 tasks      | elapsed:  1.6min\n",
      "[Parallel(n_jobs=20)]: Done 6010 tasks      | elapsed:  2.0min\n",
      "[Parallel(n_jobs=20)]: Done 7160 tasks      | elapsed:  2.3min\n",
      "[Parallel(n_jobs=20)]: Done 8410 tasks      | elapsed:  2.7min\n",
      "[Parallel(n_jobs=20)]: Done 9760 tasks      | elapsed:  3.2min\n",
      "[Parallel(n_jobs=20)]: Done 11210 tasks      | elapsed:  3.7min\n",
      "[Parallel(n_jobs=20)]: Done 12760 tasks      | elapsed:  4.2min\n",
      "[Parallel(n_jobs=20)]: Done 14410 tasks      | elapsed:  4.7min\n",
      "[Parallel(n_jobs=20)]: Done 16160 tasks      | elapsed:  5.3min\n",
      "[Parallel(n_jobs=20)]: Done 18010 tasks      | elapsed:  5.9min\n",
      "[Parallel(n_jobs=20)]: Done 19960 tasks      | elapsed:  6.5min\n",
      "[Parallel(n_jobs=20)]: Done 22010 tasks      | elapsed:  7.2min\n",
      "[Parallel(n_jobs=20)]: Done 24160 tasks      | elapsed:  7.9min\n",
      "[Parallel(n_jobs=20)]: Done 26410 tasks      | elapsed:  8.6min\n",
      "[Parallel(n_jobs=20)]: Done 28760 tasks      | elapsed:  9.4min\n",
      "[Parallel(n_jobs=20)]: Done 31210 tasks      | elapsed: 10.2min\n",
      "[Parallel(n_jobs=20)]: Done 33760 tasks      | elapsed: 11.0min\n",
      "[Parallel(n_jobs=20)]: Done 36410 tasks      | elapsed: 11.9min\n",
      "[Parallel(n_jobs=20)]: Done 39160 tasks      | elapsed: 12.8min\n",
      "[Parallel(n_jobs=20)]: Done 42010 tasks      | elapsed: 13.7min\n",
      "[Parallel(n_jobs=20)]: Done 44960 tasks      | elapsed: 14.7min\n",
      "[Parallel(n_jobs=20)]: Done 48010 tasks      | elapsed: 15.6min\n",
      "[Parallel(n_jobs=20)]: Done 51160 tasks      | elapsed: 16.7min\n",
      "[Parallel(n_jobs=20)]: Done 54410 tasks      | elapsed: 17.7min\n",
      "[Parallel(n_jobs=20)]: Done 57760 tasks      | elapsed: 18.8min\n",
      "[Parallel(n_jobs=20)]: Done 61210 tasks      | elapsed: 19.9min\n",
      "[Parallel(n_jobs=20)]: Done 64760 tasks      | elapsed: 21.1min\n",
      "[Parallel(n_jobs=20)]: Done 68410 tasks      | elapsed: 22.3min\n",
      "[Parallel(n_jobs=20)]: Done 72160 tasks      | elapsed: 23.5min\n",
      "[Parallel(n_jobs=20)]: Done 76010 tasks      | elapsed: 24.8min\n",
      "[Parallel(n_jobs=20)]: Done 79960 tasks      | elapsed: 26.1min\n",
      "[Parallel(n_jobs=20)]: Done 84010 tasks      | elapsed: 27.4min\n",
      "[Parallel(n_jobs=20)]: Done 88160 tasks      | elapsed: 28.8min\n",
      "[Parallel(n_jobs=20)]: Done 92410 tasks      | elapsed: 30.2min\n",
      "[Parallel(n_jobs=20)]: Done 96760 tasks      | elapsed: 31.6min\n",
      "[Parallel(n_jobs=20)]: Done 101210 tasks      | elapsed: 33.1min\n",
      "[Parallel(n_jobs=20)]: Done 105760 tasks      | elapsed: 34.5min\n",
      "[Parallel(n_jobs=20)]: Done 110410 tasks      | elapsed: 36.0min\n",
      "[Parallel(n_jobs=20)]: Done 115160 tasks      | elapsed: 37.6min\n",
      "[Parallel(n_jobs=20)]: Done 120010 tasks      | elapsed: 39.2min\n",
      "[Parallel(n_jobs=20)]: Done 124960 tasks      | elapsed: 40.8min\n",
      "[Parallel(n_jobs=20)]: Done 130010 tasks      | elapsed: 42.4min\n",
      "[Parallel(n_jobs=20)]: Done 135160 tasks      | elapsed: 44.1min\n",
      "[Parallel(n_jobs=20)]: Done 140410 tasks      | elapsed: 45.9min\n",
      "[Parallel(n_jobs=20)]: Done 140640 out of 140640 | elapsed: 46.3min finished\n"
     ]
    }
   ],
   "source": [
    "\n",
    "\n",
    "\n",
    "def url_response(row):\n",
    "    tile_x, tile_y, tile_url, svid, _, _, _ = row\n",
    "    try:\n",
    "        r = req.get(tile_url)\n",
    "        r.raise_for_status()\n",
    "        \n",
    "        svid_path = Path(Tile_DIR, svid)\n",
    "        if not svid_path.exists():\n",
    "            svid_path.mkdir()\n",
    "        tile_fp = Path(svid_path, '{}-{}.jpg'.format(int(tile_x), int(tile_y)))\n",
    "        with open(tile_fp, 'wb') as fp:\n",
    "            fp.write(r.content)\n",
    "    except:\n",
    "#         error_url_list.append(tile_url) \n",
    "        return tile_url\n",
    "    return \n",
    "        \n",
    "        \n",
    "# ptqdm = tqdm(total=tile_url_df[:1000].shape[0])\n",
    "# for _, row in tile_url_df[:1000].iterrows():\n",
    "#     url_response(row)\n",
    "#     ptqdm.update(1)\n",
    "# ptqdm.close()\n",
    "\n",
    "\n",
    "        \n",
    "res = []\n",
    "with parallel_backend('threading', n_jobs=20):\n",
    "    res = Parallel(verbose=1)(delayed(url_response)(row) for _, row in tile_url_df.iterrows())"
   ]
  },
  {
   "cell_type": "code",
   "execution_count": 14,
   "metadata": {
    "ExecuteTime": {
     "end_time": "2021-04-05T09:58:46.192760Z",
     "start_time": "2021-04-05T09:58:25.653267Z"
    }
   },
   "outputs": [
    {
     "data": {
      "application/vnd.jupyter.widget-view+json": {
       "model_id": "334334bc7da648f781e77e0c370ba4c2",
       "version_major": 2,
       "version_minor": 0
      },
      "text/plain": [
       "  0%|          | 0/93670 [00:00<?, ?it/s]"
      ]
     },
     "metadata": {},
     "output_type": "display_data"
    },
    {
     "name": "stdout",
     "output_type": "stream",
     "text": [
      "93670\n"
     ]
    }
   ],
   "source": [
    "# 针对error list 重请求 有些是由于网络原因未下载\n",
    "error_url_list_r = []\n",
    "error_url_list = []\n",
    "\n",
    "for _ in res:\n",
    "    if _ != None:\n",
    "        error_url_list.extend(_)\n",
    "\n",
    "\n",
    "for url in tqdm(error_url_list):\n",
    "    param_dict = urllib.parse.parse_qs(urllib.parse.urlsplit(url).query)\n",
    "    svid = param_dict.get('svid')\n",
    "    x = param_dict.get('x')\n",
    "    y = param_dict.get('y')\n",
    "    \n",
    "    try:\n",
    "        r = req.get(url)\n",
    "        r.raise_for_status()\n",
    "\n",
    "        svid_path = Path(Tile_DIR, svid)\n",
    "        if not svid_path.exists():\n",
    "            svid_path.mkdir()\n",
    "        tile_fp = Path(svid_path, '{}-{}.jpg'.format(int(tile_x), int(tile_y)))\n",
    "        with open(tile_fp, 'wb') as fp:\n",
    "            fp.write(r.content)\n",
    "    except:\n",
    "        error_url_list_r.append(url)\n",
    "print(len(error_url_list_r))"
   ]
  },
  {
   "cell_type": "markdown",
   "metadata": {},
   "source": [
    "### Tile2Image"
   ]
  },
  {
   "cell_type": "code",
   "execution_count": 15,
   "metadata": {
    "ExecuteTime": {
     "end_time": "2021-04-05T10:05:05.737103Z",
     "start_time": "2021-04-05T09:58:50.125934Z"
    }
   },
   "outputs": [
    {
     "name": "stderr",
     "output_type": "stream",
     "text": [
      "[Parallel(n_jobs=12)]: Using backend MultiprocessingBackend with 12 concurrent workers.\n",
      "[Parallel(n_jobs=12)]: Done  26 tasks      | elapsed:    1.9s\n",
      "[Parallel(n_jobs=12)]: Done 176 tasks      | elapsed:    8.6s\n",
      "[Parallel(n_jobs=12)]: Done 426 tasks      | elapsed:   19.7s\n",
      "[Parallel(n_jobs=12)]: Done 776 tasks      | elapsed:   34.9s\n",
      "[Parallel(n_jobs=12)]: Done 1226 tasks      | elapsed:   55.0s\n",
      "[Parallel(n_jobs=12)]: Done 1776 tasks      | elapsed:  1.3min\n",
      "[Parallel(n_jobs=12)]: Done 2426 tasks      | elapsed:  1.8min\n",
      "[Parallel(n_jobs=12)]: Done 3176 tasks      | elapsed:  2.4min\n",
      "[Parallel(n_jobs=12)]: Done 4026 tasks      | elapsed:  3.0min\n",
      "[Parallel(n_jobs=12)]: Done 4976 tasks      | elapsed:  3.8min\n",
      "[Parallel(n_jobs=12)]: Done 6026 tasks      | elapsed:  4.6min\n",
      "[Parallel(n_jobs=12)]: Done 7176 tasks      | elapsed:  5.4min\n",
      "[Parallel(n_jobs=12)]: Done 8244 out of 8244 | elapsed:  6.2min finished\n"
     ]
    }
   ],
   "source": [
    "\n",
    "\n",
    "def image_compose(images_root_path, image_names, images_size=512, images_row=2, images_column=8,\n",
    "                  images_save_path='./final.jpg'):\n",
    "    \"\"\"\n",
    "    定义图像拼接函数\n",
    "    :param images_root_path: # 图片集根地址\n",
    "    :param image_names: 获取图片集地址下的所有图片名称\n",
    "    :param images_size: # 每张小图片的大小\n",
    "    :param images_row: 图片间隔，也就是合并成一张图后，一共有几行\n",
    "    :param images_column: 图片间隔，也就是合并成一张图后，一共有几列\n",
    "    :param images_save_path: 图片转换后的地址\n",
    "    :return:\n",
    "    \"\"\"\n",
    "\n",
    "    # 简单的对于参数的设定和实际图片集的大小进行数量判断\n",
    "    if len(image_names) != images_row * images_column:\n",
    "        raise ValueError(\"合成图片的参数和要求的数量不能匹配！\")\n",
    "\n",
    "    to_image = Image.new('RGB', (images_column * images_size, images_row * images_size))  # 创建一个新图\n",
    "    # 循环遍历，把每张图片按顺序粘贴到对应位置上\n",
    "    for y in range(1, images_row + 1):\n",
    "        for x in range(1, images_column + 1):\n",
    "            from_image = Image.open(Path(images_root_path, image_names[images_column * (y - 1) + x - 1])).resize(\n",
    "                (images_size, images_size), Image.ANTIALIAS)\n",
    "            to_image.paste(from_image, ((x - 1) * images_size, (y - 1) * images_size))\n",
    "    return to_image.save(images_save_path)  # 保存新图\n",
    "\n",
    "\n",
    "def worker(dir):\n",
    "    if dir.is_dir():\n",
    "        image_root_path = str(dir)\n",
    "        dir_name = dir.stem\n",
    "\n",
    "        destination_path = Path(Image_DIR, dir_name)\n",
    "        if not destination_path.exists():\n",
    "            destination_path.mkdir(exist_ok=True)\n",
    "        \n",
    "        try:\n",
    "            # # 全景图\n",
    "            # tile_list = [(x, y) for y in range(1,3) for x in range(0, 8)]\n",
    "            # image_names = ['{}-{}.jpg'.format(str(tile_x), str(tile_y)) for (tile_x, tile_y) in tile_list]\n",
    "            # image_compose(images_root_path=image_root_path, image_names=image_names,\n",
    "            #               images_size=512, images_row=2, images_column=8,\n",
    "            #               images_save_path=Path(destination_path, '{}-all.jpg'.format(str(dir_name))))\n",
    "\n",
    "            # 正前方 3 + 4\n",
    "            tile_list = [(x, y) for y in range(1, 3) for x in range(3, 5)]\n",
    "            image_names = ['{}-{}.jpg'.format(str(tile_x), str(tile_y)) for (tile_x, tile_y) in tile_list]\n",
    "\n",
    "            work_tag = True  # 设定 判断标记，如果True，则合成该方向街景\n",
    "            for image_name in image_names:\n",
    "                p = Path(image_root_path, image_name)\n",
    "                if not p.exists():\n",
    "                    work_tag = False\n",
    "                    break\n",
    "\n",
    "            if work_tag:\n",
    "                image_compose(images_root_path=image_root_path, image_names=image_names,\n",
    "                              images_size=512, images_row=2, images_column=2,\n",
    "                              images_save_path=Path(destination_path, '{}-front.jpg'.format(str(dir_name))))  # 调用函数\n",
    "\n",
    "            # 正后方 0 + 7\n",
    "            tile_list = [(x, y) for y in range(1, 3) for x in [7, 0]]\n",
    "            image_names = ['{}-{}.jpg'.format(str(tile_x), str(tile_y)) for (tile_x, tile_y) in tile_list]\n",
    "\n",
    "            work_tag = True  # 设定 判断标记，如果True，则合成该方向街景\n",
    "            for image_name in image_names:\n",
    "                p = Path(image_root_path, image_name)\n",
    "                if not p.exists():\n",
    "                    work_tag = False\n",
    "                    break\n",
    "            if work_tag:\n",
    "                image_compose(images_root_path=image_root_path, image_names=image_names,\n",
    "                              images_size=512, images_row=2, images_column=2,\n",
    "                              images_save_path=Path(destination_path, '{}-back.jpg'.format(str(dir_name))))\n",
    "\n",
    "            # 左边 1 + 2\n",
    "            tile_list = [(x, y) for y in range(1, 3) for x in [1, 2]]\n",
    "            image_names = ['{}-{}.jpg'.format(str(tile_x), str(tile_y)) for (tile_x, tile_y) in tile_list]\n",
    "            work_tag = True  # 设定 判断标记，如果True，则合成该方向街景\n",
    "            for image_name in image_names:\n",
    "                p = Path(image_root_path, image_name)\n",
    "                if not p.exists():\n",
    "                    work_tag = False\n",
    "                    break\n",
    "            if work_tag:\n",
    "                image_compose(images_root_path=image_root_path, image_names=image_names,\n",
    "                              images_size=512, images_row=2, images_column=2,\n",
    "                              images_save_path=Path(destination_path, '{}-left.jpg'.format(str(dir_name))))\n",
    "\n",
    "            # 右边\n",
    "            tile_list = [(x, y) for y in range(1, 3) for x in [5, 6]]\n",
    "            image_names = ['{}-{}.jpg'.format(str(tile_x), str(tile_y)) for (tile_x, tile_y) in tile_list]\n",
    "            work_tag = True  # 设定 判断标记，如果True，则合成该方向街景\n",
    "            for image_name in image_names:\n",
    "                p = Path(image_root_path, image_name)\n",
    "                if not p.exists():\n",
    "                    work_tag = False\n",
    "                    break\n",
    "            if work_tag:\n",
    "                image_compose(images_root_path=image_root_path, image_names=image_names,\n",
    "                              images_size=512, images_row=2, images_column=2,\n",
    "                              images_save_path=Path(destination_path, '{}-right.jpg'.format(str(dir_name))))\n",
    "\n",
    "        except:\n",
    "            print(dir_name)\n",
    "            \n",
    "            \n",
    "         \n",
    "cores_num = multiprocessing.cpu_count()\n",
    "\n",
    "with parallel_backend('multiprocessing', n_jobs=cores_num):\n",
    "    res = Parallel(verbose=1)(delayed(worker)(d) for d in Tile_DIR.iterdir())"
   ]
  },
  {
   "cell_type": "markdown",
   "metadata": {},
   "source": [
    "### DownloadedStatistic"
   ]
  },
  {
   "cell_type": "code",
   "execution_count": 16,
   "metadata": {
    "ExecuteTime": {
     "end_time": "2021-04-05T10:05:24.127676Z",
     "start_time": "2021-04-05T10:05:05.739454Z"
    }
   },
   "outputs": [],
   "source": [
    "# 统计已下载的影像图片数量\n",
    "image_count_dict = {}\n",
    "for svid_path in Image_DIR.iterdir():\n",
    "    svid = svid_path.stem\n",
    "    count = len([_ for _ in svid_path.iterdir()])\n",
    "    image_count_dict[svid]= count\n"
   ]
  },
  {
   "cell_type": "code",
   "execution_count": 17,
   "metadata": {
    "ExecuteTime": {
     "end_time": "2021-04-05T10:05:24.134679Z",
     "start_time": "2021-04-05T10:05:24.130203Z"
    }
   },
   "outputs": [
    {
     "name": "stdout",
     "output_type": "stream",
     "text": [
      "Counter({4: 7482, 3: 727, 2: 32, 1: 3})\n"
     ]
    }
   ],
   "source": [
    "from collections import Counter\n",
    "print(Counter([v for k, v in image_count_dict.items()]))"
   ]
  },
  {
   "cell_type": "code",
   "execution_count": 18,
   "metadata": {
    "ExecuteTime": {
     "end_time": "2021-04-05T10:05:24.560371Z",
     "start_time": "2021-04-05T10:05:24.136773Z"
    }
   },
   "outputs": [
    {
     "data": {
      "text/html": [
       "<div>\n",
       "<style scoped>\n",
       "    .dataframe tbody tr th:only-of-type {\n",
       "        vertical-align: middle;\n",
       "    }\n",
       "\n",
       "    .dataframe tbody tr th {\n",
       "        vertical-align: top;\n",
       "    }\n",
       "\n",
       "    .dataframe thead th {\n",
       "        text-align: right;\n",
       "    }\n",
       "</style>\n",
       "<table border=\"1\" class=\"dataframe\">\n",
       "  <thead>\n",
       "    <tr style=\"text-align: right;\">\n",
       "      <th></th>\n",
       "      <th>tile_x</th>\n",
       "      <th>tile_y</th>\n",
       "      <th>tile_url</th>\n",
       "      <th>svid</th>\n",
       "      <th>road_name</th>\n",
       "      <th>wgs_lat</th>\n",
       "      <th>wgs_lon</th>\n",
       "    </tr>\n",
       "  </thead>\n",
       "  <tbody>\n",
       "    <tr>\n",
       "      <th>0</th>\n",
       "      <td>0</td>\n",
       "      <td>1</td>\n",
       "      <td>https://sv0.map.qq.com/tile?svid=3701100714032...</td>\n",
       "      <td>37011007140322135810100</td>\n",
       "      <td>１號幹線</td>\n",
       "      <td>22.292711</td>\n",
       "      <td>114.181733</td>\n",
       "    </tr>\n",
       "    <tr>\n",
       "      <th>1</th>\n",
       "      <td>1</td>\n",
       "      <td>1</td>\n",
       "      <td>https://sv0.map.qq.com/tile?svid=3701100714032...</td>\n",
       "      <td>37011007140322135810100</td>\n",
       "      <td>１號幹線</td>\n",
       "      <td>22.292711</td>\n",
       "      <td>114.181733</td>\n",
       "    </tr>\n",
       "    <tr>\n",
       "      <th>2</th>\n",
       "      <td>2</td>\n",
       "      <td>1</td>\n",
       "      <td>https://sv0.map.qq.com/tile?svid=3701100714032...</td>\n",
       "      <td>37011007140322135810100</td>\n",
       "      <td>１號幹線</td>\n",
       "      <td>22.292711</td>\n",
       "      <td>114.181733</td>\n",
       "    </tr>\n",
       "    <tr>\n",
       "      <th>3</th>\n",
       "      <td>3</td>\n",
       "      <td>1</td>\n",
       "      <td>https://sv0.map.qq.com/tile?svid=3701100714032...</td>\n",
       "      <td>37011007140322135810100</td>\n",
       "      <td>１號幹線</td>\n",
       "      <td>22.292711</td>\n",
       "      <td>114.181733</td>\n",
       "    </tr>\n",
       "    <tr>\n",
       "      <th>4</th>\n",
       "      <td>4</td>\n",
       "      <td>1</td>\n",
       "      <td>https://sv0.map.qq.com/tile?svid=3701100714032...</td>\n",
       "      <td>37011007140322135810100</td>\n",
       "      <td>１號幹線</td>\n",
       "      <td>22.292711</td>\n",
       "      <td>114.181733</td>\n",
       "    </tr>\n",
       "  </tbody>\n",
       "</table>\n",
       "</div>"
      ],
      "text/plain": [
       "   tile_x  tile_y                                           tile_url  \\\n",
       "0       0       1  https://sv0.map.qq.com/tile?svid=3701100714032...   \n",
       "1       1       1  https://sv0.map.qq.com/tile?svid=3701100714032...   \n",
       "2       2       1  https://sv0.map.qq.com/tile?svid=3701100714032...   \n",
       "3       3       1  https://sv0.map.qq.com/tile?svid=3701100714032...   \n",
       "4       4       1  https://sv0.map.qq.com/tile?svid=3701100714032...   \n",
       "\n",
       "                      svid road_name    wgs_lat     wgs_lon  \n",
       "0  37011007140322135810100      １號幹線  22.292711  114.181733  \n",
       "1  37011007140322135810100      １號幹線  22.292711  114.181733  \n",
       "2  37011007140322135810100      １號幹線  22.292711  114.181733  \n",
       "3  37011007140322135810100      １號幹線  22.292711  114.181733  \n",
       "4  37011007140322135810100      １號幹線  22.292711  114.181733  "
      ]
     },
     "execution_count": 18,
     "metadata": {},
     "output_type": "execute_result"
    }
   ],
   "source": [
    "tile_url_df = pd.read_csv(Path(Metrics_DIR, \"tile_url.csv\"))\n",
    "tile_url_df.head()"
   ]
  },
  {
   "cell_type": "code",
   "execution_count": 19,
   "metadata": {
    "ExecuteTime": {
     "end_time": "2021-04-05T10:05:24.599299Z",
     "start_time": "2021-04-05T10:05:24.562205Z"
    }
   },
   "outputs": [
    {
     "data": {
      "text/html": [
       "<div>\n",
       "<style scoped>\n",
       "    .dataframe tbody tr th:only-of-type {\n",
       "        vertical-align: middle;\n",
       "    }\n",
       "\n",
       "    .dataframe tbody tr th {\n",
       "        vertical-align: top;\n",
       "    }\n",
       "\n",
       "    .dataframe thead th {\n",
       "        text-align: right;\n",
       "    }\n",
       "</style>\n",
       "<table border=\"1\" class=\"dataframe\">\n",
       "  <thead>\n",
       "    <tr style=\"text-align: right;\">\n",
       "      <th></th>\n",
       "      <th>svid</th>\n",
       "      <th>road_name</th>\n",
       "      <th>wgs_lat</th>\n",
       "      <th>wgs_lon</th>\n",
       "      <th>downloaded_image_count</th>\n",
       "    </tr>\n",
       "  </thead>\n",
       "  <tbody>\n",
       "    <tr>\n",
       "      <th>0</th>\n",
       "      <td>37011007140322135810100</td>\n",
       "      <td>１號幹線</td>\n",
       "      <td>22.292711</td>\n",
       "      <td>114.181733</td>\n",
       "      <td>4.0</td>\n",
       "    </tr>\n",
       "    <tr>\n",
       "      <th>16</th>\n",
       "      <td>37011007140322135802300</td>\n",
       "      <td>１號幹線</td>\n",
       "      <td>22.293698</td>\n",
       "      <td>114.181569</td>\n",
       "      <td>4.0</td>\n",
       "    </tr>\n",
       "    <tr>\n",
       "      <th>32</th>\n",
       "      <td>37011007140322135754500</td>\n",
       "      <td>１號幹線</td>\n",
       "      <td>22.294684</td>\n",
       "      <td>114.181405</td>\n",
       "      <td>4.0</td>\n",
       "    </tr>\n",
       "    <tr>\n",
       "      <th>48</th>\n",
       "      <td>37011007140322135746700</td>\n",
       "      <td>１號幹線</td>\n",
       "      <td>22.295671</td>\n",
       "      <td>114.181241</td>\n",
       "      <td>4.0</td>\n",
       "    </tr>\n",
       "    <tr>\n",
       "      <th>64</th>\n",
       "      <td>37011007140322135737400</td>\n",
       "      <td>１號幹線</td>\n",
       "      <td>22.296657</td>\n",
       "      <td>114.181078</td>\n",
       "      <td>3.0</td>\n",
       "    </tr>\n",
       "  </tbody>\n",
       "</table>\n",
       "</div>"
      ],
      "text/plain": [
       "                       svid road_name    wgs_lat     wgs_lon  \\\n",
       "0   37011007140322135810100      １號幹線  22.292711  114.181733   \n",
       "16  37011007140322135802300      １號幹線  22.293698  114.181569   \n",
       "32  37011007140322135754500      １號幹線  22.294684  114.181405   \n",
       "48  37011007140322135746700      １號幹線  22.295671  114.181241   \n",
       "64  37011007140322135737400      １號幹線  22.296657  114.181078   \n",
       "\n",
       "    downloaded_image_count  \n",
       "0                      4.0  \n",
       "16                     4.0  \n",
       "32                     4.0  \n",
       "48                     4.0  \n",
       "64                     3.0  "
      ]
     },
     "execution_count": 19,
     "metadata": {},
     "output_type": "execute_result"
    }
   ],
   "source": [
    "svid_df = tile_url_df[['svid', 'road_name', 'wgs_lat', 'wgs_lon']].drop_duplicates(\n",
    "    subset=['svid'], keep='first',\n",
    "    inplace=False)\n",
    "svid_df['downloaded_image_count'] = svid_df.svid.map(image_count_dict)\n",
    "svid_df.head()"
   ]
  },
  {
   "cell_type": "code",
   "execution_count": 20,
   "metadata": {
    "ExecuteTime": {
     "end_time": "2021-04-05T10:05:24.677347Z",
     "start_time": "2021-04-05T10:05:24.601084Z"
    }
   },
   "outputs": [],
   "source": [
    "svid_df_path = Path(Metrics_DIR, \"svid.csv\")\n",
    "svid_df.query('downloaded_image_count == 4').to_csv(svid_df_path, header=True, index=False)"
   ]
  },
  {
   "cell_type": "code",
   "execution_count": null,
   "metadata": {},
   "outputs": [],
   "source": []
  }
 ],
 "metadata": {
  "kernelspec": {
   "display_name": "Python 3",
   "language": "python",
   "name": "python3"
  },
  "language_info": {
   "codemirror_mode": {
    "name": "ipython",
    "version": 3
   },
   "file_extension": ".py",
   "mimetype": "text/x-python",
   "name": "python",
   "nbconvert_exporter": "python",
   "pygments_lexer": "ipython3",
   "version": "3.8.5"
  },
  "toc": {
   "base_numbering": 1,
   "nav_menu": {},
   "number_sections": false,
   "sideBar": true,
   "skip_h1_title": false,
   "title_cell": "Table of Contents",
   "title_sidebar": "Contents",
   "toc_cell": false,
   "toc_position": {},
   "toc_section_display": true,
   "toc_window_display": true
  }
 },
 "nbformat": 4,
 "nbformat_minor": 2
}
